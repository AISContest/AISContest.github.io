{
 "cells": [
  {
   "cell_type": "markdown",
   "metadata": {
    "id": "ocdi95zNbH1o"
   },
   "source": [
    "<h1 align=\"center\" style=\"line-height:200%; font-family: Vazir; color: #80a8d2;\">\n",
    " EEG طبقه‌بندی مراحل خواب با استفاده از داده‌های\n",
    "</h1>\n",
    "\n"
   ]
  },
  {
   "cell_type": "markdown",
   "metadata": {
    "id": "pSTIv_dueMrS"
   },
   "source": [
    "<h2 dir=\"rtl\" align=\"right\" style=\"line-height:100%; font-family: Vazir; color: #80a8d2;\">\n",
    "  بیان مسئله\n",
    "</h2>\n",
    "<p dir=\"rtl\" style=\"text-align: justify; line-height:200%; font-family: Vazir; font-size: medium;\">\n",
    "  هدف از این مسابقه، استفاده از سیگنال‌های مغزی ثبت‌شده از داخل گوش و به‌کارگیری الگوریتم‌های پیشرفته هوش مصنوعی جهت شناسایی مراحل مختلف خواب بر اساس این سیگنال‌ها است. داده‌های ثبت‌شده به بازه‌های زمانی 30 ثانیه‌ای تقسیم شده‌اند و هر بازه به‌طور دقیق توسط متخصصین مربوطه به یکی از مراحل خواب برچسب‌گذاری شده است.\n",
    "  شرکت‌کنندگان در این مسابقه ملزم به طراحی و توسعه مدل‌های هوش مصنوعی هستند که قادر به تشخیص مرحله خواب با دقت بالا بر اساس داده‌های ورودی باشند. در نوت بوک بخش هایی با عنوان TODO .مشخص شده که انتظار می رود شرکت کنندگان به تکمیل آن بپردازند\n",
    "</p>\n"
   ]
  },
  {
   "cell_type": "markdown",
   "metadata": {
    "id": "vzwgX35pdBr9"
   },
   "source": [
    "<h2 dir=\"rtl\" align=\"right\" style=\"line-height:100%; font-family: Vazir; color: #80a8d2;\">\n",
    "  معرفی مجموعه داده\n",
    "</h2>\n",
    "\n",
    "<p dir=\"rtl\" style=\"text-align: justify; line-height:200%; font-family: Vazir; font-size: medium;\">\n",
    "  • داده از پیش‌پردازش شده‌اند و ویژگی‌های طیفی (Spectrogram) آن‌ها محاسبه شده است.<br>\n",
    "  • ابعاد هر نمونه داده ورودی (بازه‌های 30 ثانیه‌ای)، یک ماتریس دوبعدی 59×51 است.<br>\n",
    "  • پوشه داده‌ها (AISContest_Data)، دارای پنج پوشه است که هر یک شامل نمونه‌های مربوط به کلاس‌های زیر است:<br>\n",
    "  &nbsp;&nbsp;&nbsp;&nbsp; 0. Wake<br>\n",
    "  &nbsp;&nbsp;&nbsp;&nbsp; 1. NREM1<br>\n",
    "  &nbsp;&nbsp;&nbsp;&nbsp; 2. NREM2<br>\n",
    "  &nbsp;&nbsp;&nbsp;&nbsp; 3. NREM3<br>\n",
    "  &nbsp;&nbsp;&nbsp;&nbsp; 4. REM<br><br>\n",
    "  • هر یک از فایل‌های .py با فرمت زیر نام‌گذاری شده است:<br>\n",
    "  &nbsp;&nbsp;&nbsp;&nbsp; <strong>subjectid-epoochnumber.py</strong>\n",
    "</p>\n"
   ]
  },
  {
   "cell_type": "markdown",
   "metadata": {},
   "source": [
    "<h2 dir=\"rtl\" align=\"right\" style=\"line-height:100%; font-family: Vazir; color: #80a8d2;\">\n",
    "  دسترسی به داده\n",
    "</h2>\n",
    "\n",
    "<p dir=\"rtl\" style=\"text-align: justify; line-height:200%; font-family: Vazir; font-size: medium;\">\n",
    "   برای دسترسی به داده مسابقه کافیست سلول زیر را اجرا نمایید. چنانچه پیشتر داده را تهیه نموده اید، از اجرای سلول بعدی صرف نظر نموده و صرفا فایل زیپ را به دایرکتوری یکسان با نوت بوک انتقال دهید.\n",
    "</p>\n"
   ]
  },
  {
   "cell_type": "code",
   "execution_count": null,
   "metadata": {},
   "outputs": [],
   "source": [
    "!pip install gdown\n",
    "\n",
    "import gdown\n",
    "file_id = '1Y2cTYR_t_10NAbznspE5bBjuATPdTgtq'\n",
    "gdown.download(f'https://drive.google.com/uc?export=download&id={file_id}', 'file.zip', quiet=False)"
   ]
  },
  {
   "cell_type": "code",
   "execution_count": null,
   "metadata": {},
   "outputs": [
    {
     "name": "stderr",
     "output_type": "stream",
     "text": [
      "\n",
      "KeyboardInterrupt\n",
      "\n"
     ]
    }
   ],
   "source": [
    "import zipfile\n",
    "import os\n",
    "\n",
    "zip_path = 'file.zip'\n",
    "with zipfile.ZipFile(zip_path, 'r') as zip_ref:\n",
    "    extract_path = 'extracted_files'\n",
    "    zip_ref.extractall(extract_path)\n",
    "\n",
    "extracted_files = os.listdir(extract_path)\n",
    "print(f\"Extracted files and directories: {extracted_files}\")"
   ]
  },
  {
   "cell_type": "code",
   "execution_count": 1,
   "metadata": {},
   "outputs": [],
   "source": [
    "# محل بارگذاری داده\n",
    "# (مثال: np.load(data) ...)\n",
    "# TODO"
   ]
  },
  {
   "cell_type": "code",
   "execution_count": null,
   "metadata": {},
   "outputs": [],
   "source": [
    "# میزان داده آموزش و ارزیابی را مشخص کنید\n",
    "\n",
    "from sklearn.model_selection import train_test_split\n",
    "\n",
    "x_train, x_test, y_train, y_test = train_test_split(data, labels, \n",
    "                                                    test_size    = # TODO, \n",
    "                                                    random_state = # TODO)\n",
    "\n",
    "x_test, x_val, y_test, y_val    = train_test_split(x_test, y_test, \n",
    "                                                    test_size    = # TODO, \n",
    "                                                    random_state = # TODO)"
   ]
  },
  {
   "cell_type": "markdown",
   "metadata": {
    "id": "ObaXYhsZT8hm"
   },
   "source": [
    "<h2 dir=\"rtl\" align=\"right\" style=\"line-height:100%; font-family: Vazir; color: #80a8d2;\">\n",
    "  مدل‌ من\n",
    "</h2>"
   ]
  },
  {
   "cell_type": "markdown",
   "metadata": {},
   "source": [
    "<h3 dir=\"rtl\" align=\"right\" style=\"line-height:100%; font-family: Vazir; color: #80a8d2;\">\n",
    "  شرایط و محدودیت ها\n",
    "</h3>\n",
    "\n",
    "<p dir=\"rtl\" style=\"text-align: justify; line-height:200%; font-family: Vazir; font-size: medium;\">\n",
    "  <span style=\"color: red;\"> رعایت محدویت های زیر الزامی است: </span><br>\n",
    "  <span>• حجم مدل تهیه‌شده نباید از <b>300</b> مگابایت بیشتر باشد.</span><br>\n",
    "  <span>• فرمت‌های مورد قبول برای ذخیره مدل‌ها: <code>.h5</code> برای Keras/TensorFlow و <code>.pth</code> برای Pytorch.</span><br><br>"
   ]
  },
  {
   "cell_type": "code",
   "execution_count": null,
   "metadata": {
    "execution": {
     "iopub.execute_input": "2024-10-05T14:27:18.965211Z",
     "iopub.status.busy": "2024-10-05T14:27:18.964895Z",
     "iopub.status.idle": "2024-10-05T14:27:18.979269Z",
     "shell.execute_reply": "2024-10-05T14:27:18.978328Z",
     "shell.execute_reply.started": "2024-10-05T14:27:18.965164Z"
    },
    "id": "ViHGmKCuSqw8",
    "trusted": true
   },
   "outputs": [],
   "source": [
    "# محل قرار گیری مدل \n",
    "# (مثال: model = tf.keras.models.Sequential ...)\n",
    "# TODO"
   ]
  },
  {
   "cell_type": "markdown",
   "metadata": {},
   "source": [
    "<h3 dir=\"rtl\" align=\"right\" style=\"line-height:100%; font-family: Vazir; color: #80a8d2;\">\n",
    " آموزش مدل \n",
    "</h3>"
   ]
  },
  {
   "cell_type": "code",
   "execution_count": null,
   "metadata": {
    "execution": {
     "iopub.execute_input": "2024-10-05T14:40:34.661188Z",
     "iopub.status.busy": "2024-10-05T14:40:34.660790Z",
     "iopub.status.idle": "2024-10-05T14:40:52.538411Z",
     "shell.execute_reply": "2024-10-05T14:40:52.537383Z",
     "shell.execute_reply.started": "2024-10-05T14:40:34.661143Z"
    },
    "id": "eSC1BlV2Sqw-",
    "trusted": true
   },
   "outputs": [],
   "source": [
    "#محل آموزش مدل \n",
    "# (مثال: model.compile(optimizer='adam', ...)\n",
    "# TODO"
   ]
  },
  {
   "cell_type": "markdown",
   "metadata": {},
   "source": [
    "<h3 dir=\"rtl\" align=\"right\" style=\"line-height:100%; font-family: Vazir; color: #80a8d2;\">\n",
    " ارزیابی مدل\n",
    "</h3>\n",
    "\n",
    "<p dir=rtl style=\"direction: rtl; text-align: justify; line-height:200%; font-family:vazir; font-size:medium\">\n",
    "<font face=\"vazir\" size=3>\n",
    "   ارسال‌ها بر اساس امتیاز <code>F1</code> ارزیابی می‌شوند و مدل میانگین‌گیری <code>micro</code> است. امتیاز <code>F1</code> معیاری برای ارزیابی مدل است که هم بازیابی (<code>Recall</code>) و هم صحت (<code>Accuracy</code>) را در نظر می‌گیرد.\n",
    "   نتیجه‌ی نهایی بر اساس فرمول زیر محاسبه می‌گردد:\n",
    "\n",
    "$$score= round(f1score, 3) \\times 100$$\n",
    "</font>\n",
    "</p>\n",
    "<p dir=rtl style=\"direction: rtl; text-align: justify; line-height:200%; font-family:vazir; font-size:medium\">\n",
    "<font face=\"vazir\" size=3>\n",
    "مقدار <code>F1 Score</code> مدل شما تا ۳ رقم اعشار گرد شده و پس از ضرب در ۱۰۰ به‌عنوان امتیاز شما از این سوال لحاظ می‌شود. \n",
    "</font>\n",
    "</p>"
   ]
  },
  {
   "cell_type": "code",
   "execution_count": null,
   "metadata": {},
   "outputs": [],
   "source": [
    "# محل ارزیابی مدل\n",
    "from sklearn.metrics import f1_score\n",
    "\n",
    "# (مثال: f1_score(y_true, y_pred, average='macro'), ...)\n",
    "# TODO"
   ]
  },
  {
   "cell_type": "markdown",
   "metadata": {
    "id": "e4UUFwPnScAz"
   },
   "source": [
    "<h2 dir=\"rtl\" align=\"right\" style=\"line-height:100%; font-family: Vazir; color: #80a8d2;\">\n",
    "  ذخیره و ارسال\n",
    "</h2>\n",
    "\n",
    "<p dir=\"rtl\" style=\"direction: rtl; text-align: justify; line-height:200%; font-family: Vazir; font-size: medium;\">\n",
    "  <font face=\"vazir\" size=\"3\">\n",
    "    با اجرای سلول زیر، فشرده‌سازی نوت‌بوک و مدل به طور خودکار در فایل <code>result.zip</code> انجام می‌شود و در انتهای اجرا، فایل‌های فشرده‌شده جهت بررسی مجدد نمایش داده خواهند شد. محتوای این فایل لازم است شامل <code>model.h5</code> یا <code>model.pth</code> و <code>AIS_Contest.ipynb</code> باشد.\n",
    "    <br><br>\n",
    "    <span style=\"color: red;\">نکات مهم:</span><br>\n",
    "    • توجه داشته باشید که پیش از اجرای سلول زیر، تغییرات اعمال شده در نوت‌بوک را ذخیره کرده باشید (<code>ctrl+s</code>).<br>\n",
    "    همچنین اگر از <b>Colab</b> برای اجرای این فایل نوت‌بوک استفاده می‌کنید، قبل از ارسال فایل <code>result.zip</code>، آخرین نسخه‌ی نوت‌بوک خود را دانلود کرده و داخل فایل ارسالی قرار دهید.<br>   • نام نوت‌بوک <code>AIS_Contest.ipynb</code> است و نباید تغییر کند.<br>\n",
    "    <span>• چنانچه پیشتر نیز تاکیید شد، فرمت‌های مورد قبول برای ذخیره مدل‌ها <code>.h5</code> برای Keras/TensorFlow و <code>.pth</code> برای Pytorch است.</span><br>\n",
    "    <span>• فایل مدل و نوتبوک باید در دایرکتوری یکسان باشند. در غیر این صورت فرآیند فشرده سازی با خطا مواجه خواهد شد.</span><br>\n",
    "  </font>\n",
    "</p>"
   ]
  },
  {
   "cell_type": "code",
   "execution_count": 1,
   "metadata": {},
   "outputs": [
    {
     "name": "stdout",
     "output_type": "stream",
     "text": [
      "Checking required files...\n",
      "Compresses Failed! Warning: model not found!\n"
     ]
    }
   ],
   "source": [
    "import zipfile\n",
    "import os\n",
    "\n",
    "# Check if the 'AIS_Contest.ipynb' file exists in the current directory\n",
    "if not os.path.exists(os.path.join(os.getcwd(), 'AIS_Contest.ipynb')):\n",
    "    %notebook -e AIS_Contest.ipynb\n",
    "\n",
    "def compress(file_names):\n",
    "    \"\"\"\n",
    "    This function compresses the existing files in the file_names list into a zip file.\n",
    "    \"\"\"\n",
    "    print(\"Checking required files...\")\n",
    "\n",
    "    # Check if 'AIS_Contest.ipynb' exists\n",
    "    if not os.path.exists('AIS_Contest.ipynb'):\n",
    "        print(\"Compresses Failed! Warning: notebook file 'AIS_Contest.ipynb' not found!\")\n",
    "        return\n",
    "\n",
    "    # Check if at least one of the model files exists\n",
    "    if not any(os.path.exists(file) for file in ['model.pth', 'model.h5']):\n",
    "        print(\"Compresses Failed! Warning: model not found!\")\n",
    "        return\n",
    "    \n",
    "    # Filter out the files that exist in the current directory\n",
    "    existing_files = [file_name for file_name in file_names if os.path.exists(file_name)]\n",
    "    \n",
    "    # If no files exist, print a message and return\n",
    "    if not existing_files:\n",
    "        print(\"No files found for compression.\")\n",
    "        return\n",
    "    \n",
    "    # Define the compression type\n",
    "    compression = zipfile.ZIP_DEFLATED\n",
    "    \n",
    "    # Create a zip file and add the existing files\n",
    "    with zipfile.ZipFile(\"result.zip\", mode=\"w\") as zf:\n",
    "        for file_name in existing_files:\n",
    "            zf.write(file_name, os.path.basename(file_name), compress_type=compression)\n",
    "    \n",
    "    print(f\"The following files have been compressed: {existing_files}\")\n",
    "\n",
    "# List of files to compress\n",
    "file_names = ['AIS_Contest.ipynb', 'model.pth', 'model.h5']\n",
    "\n",
    "# Call the function to compress existing files\n",
    "compress(file_names)\n"
   ]
  },
  {
   "cell_type": "markdown",
   "metadata": {},
   "source": [
    "<h3 dir=\"rtl\" align=\"right\" style=\"line-height:100%; font-family: Vazir; color: #80a8d2;\">\n",
    "  ارسال فایل زیپ\n",
    "</h3>\n",
    "\n",
    "<p dir=\"rtl\" style=\"direction: rtl; text-align: justify; line-height:200%; font-family:vazir; font-size:medium\">\n",
    "<font face=\"vazir\" size=3>\n",
    "  مراحل ارسال فایل بشرح زیر است:\n",
    "</font>\n",
    "</p>\n",
    "\n",
    "<p dir=\"rtl\" style=\"direction: rtl; text-align: justify; line-height:200%; font-family:vazir; font-size:medium\">\n",
    "<font face=\"vazir\" size=3>\n",
    "    <strong> • مرحله 1: آپلود فایل</strong><br>\n",
    "    به گوگل درایو خود بروید.<br>\n",
    "    روی گزینه <strong>new</strong> کلیک کرده و سپس <strong>File upload </strong> را انتخاب کنید و فایل zip خود را انتخاب کنید.\n",
    "</font>\n",
    "</p>\n",
    "\n",
    "<p dir=\"rtl\" style=\"direction: rtl; text-align: justify; line-height:200%; font-family:vazir; font-size:medium\">\n",
    "<font face=\"vazir\" size=3>\n",
    "    <strong>• مرحله 2: به اشتراک‌گذاری فایل</strong><br>\n",
    "    فایل آپلود شده را در گوگل درایو پیدا کنید.<br>\n",
    "    روی فایل کلیک راست کرده و گزینه <strong>share</strong> را انتخاب کنید.<br>\n",
    "    در تنظیمات اشتراک‌گذاری:<br>\n",
    "    دسترسی را از <strong>Restricted </strong> به <strong>Anyone with the link</strong> تغییر دهید.<br>\n",
    "    لینک تولید شده را کپی کنید.\n",
    "</font>\n",
    "</p>\n",
    "\n",
    "<p dir=\"rtl\" style=\"direction: rtl; text-align: justify; line-height:200%; font-family:vazir; font-size:medium\">\n",
    "<font face=\"vazir\" size=3>\n",
    "    <strong>• مرحله 3: ارسال لینک</strong><br>\n",
    "    به بخش ارسال در وبسایت مسابقه بروید.<br>\n",
    "    لینک کپی شده را در فیلد ارسال paste کنید.<br>\n",
    "    ارسال خود را تایید کنید.\n",
    "</font>\n",
    "</p>\n"
   ]
  }
 ],
 "metadata": {
  "accelerator": "GPU",
  "colab": {
   "gpuType": "T4",
   "provenance": []
  },
  "kaggle": {
   "accelerator": "gpu",
   "dataSources": [
    {
     "isSourceIdPinned": true,
     "modelId": 131822,
     "modelInstanceId": 107474,
     "sourceId": 127630,
     "sourceType": "modelInstanceVersion"
    }
   ],
   "dockerImageVersionId": 30776,
   "isGpuEnabled": true,
   "isInternetEnabled": true,
   "language": "python",
   "sourceType": "notebook"
  },
  "kernelspec": {
   "display_name": "Python 3",
   "language": "python",
   "name": "python3"
  },
  "language_info": {
   "codemirror_mode": {
    "name": "ipython",
    "version": 3
   },
   "file_extension": ".py",
   "mimetype": "text/x-python",
   "name": "python",
   "nbconvert_exporter": "python",
   "pygments_lexer": "ipython3",
   "version": "3.10.5"
  }
 },
 "nbformat": 4,
 "nbformat_minor": 0
}
